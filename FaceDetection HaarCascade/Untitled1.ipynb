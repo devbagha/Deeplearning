{
 "cells": [
  {
   "cell_type": "code",
   "execution_count": 3,
   "id": "2b7153b8",
   "metadata": {},
   "outputs": [
    {
     "ename": "NameError",
     "evalue": "name 'vocab_size' is not defined",
     "output_type": "error",
     "traceback": [
      "\u001b[0;31m---------------------------------------------------------------------------\u001b[0m",
      "\u001b[0;31mNameError\u001b[0m                                 Traceback (most recent call last)",
      "Cell \u001b[0;32mIn[3], line 18\u001b[0m\n\u001b[1;32m     16\u001b[0m \u001b[38;5;66;03m# Define the RNN model for caption generation\u001b[39;00m\n\u001b[1;32m     17\u001b[0m caption_input \u001b[38;5;241m=\u001b[39m Input(shape\u001b[38;5;241m=\u001b[39m(\u001b[38;5;241m40\u001b[39m,))\n\u001b[0;32m---> 18\u001b[0m caption_embedding \u001b[38;5;241m=\u001b[39m layers\u001b[38;5;241m.\u001b[39mEmbedding(vocab_size, embedding_dim, input_length\u001b[38;5;241m=\u001b[39m\u001b[38;5;241m40\u001b[39m)(caption_input)\n\u001b[1;32m     19\u001b[0m caption_features \u001b[38;5;241m=\u001b[39m layers\u001b[38;5;241m.\u001b[39mLSTM(\u001b[38;5;241m256\u001b[39m)(caption_embedding)\n\u001b[1;32m     20\u001b[0m caption_features_output \u001b[38;5;241m=\u001b[39m layers\u001b[38;5;241m.\u001b[39mRepeatVector(\u001b[38;5;241m1\u001b[39m)(caption_features)\n",
      "\u001b[0;31mNameError\u001b[0m: name 'vocab_size' is not defined"
     ]
    }
   ],
   "source": [
    "import tensorflow as tf\n",
    "from tensorflow.keras import layers, Model, Input\n",
    "from tensorflow.keras.applications import ResNet50\n",
    "from tensorflow.keras.preprocessing.sequence import pad_sequences\n",
    "from tensorflow.keras.preprocessing.text import Tokenizer\n",
    "from tensorflow.keras.utils import to_categorical\n",
    "\n",
    "# Define the CNN model for image feature extraction\n",
    "base_model = ResNet50(weights='imagenet', include_top=False)\n",
    "image_input = Input(shape=(224, 224, 3))\n",
    "x = base_model(image_input)\n",
    "x = layers.GlobalAveragePooling2D()(x)\n",
    "image_features = layers.Dense(256, activation='relu')(x)\n",
    "image_features_output = layers.RepeatVector(40)(image_features)\n",
    "\n",
    "# Define the RNN model for caption generation\n",
    "caption_input = Input(shape=(40,))\n",
    "caption_embedding = layers.Embedding(vocab_size, embedding_dim, input_length=40)(caption_input)\n",
    "caption_features = layers.LSTM(256)(caption_embedding)\n",
    "caption_features_output = layers.RepeatVector(1)(caption_features)\n",
    "\n",
    "# Concatenate image features and caption features\n",
    "decoder_input = layers.concatenate([image_features_output, caption_features_output], axis=1)\n",
    "\n",
    "# LSTM decoder\n",
    "decoder_lstm = layers.LSTM(512, return_sequences=True)(decoder_input)\n",
    "output = layers.TimeDistributed(layers.Dense(vocab_size, activation='softmax'))(decoder_lstm)\n",
    "\n",
    "# Define the model\n",
    "model = Model(inputs=[image_input, caption_input], outputs=output)\n",
    "model.compile(loss='categorical_crossentropy', optimizer='adam')\n",
    "\n",
    "# Train the model\n",
    "model.fit([images, captions_in], captions_out, epochs=num_epochs, batch_size=batch_size, validation_split=0.2)\n",
    "\n",
    "# Generate captions for new images\n",
    "def generate_caption(image):\n",
    "    image_feature = base_model.predict(image)\n",
    "    caption = ['<start>']\n",
    "    for _ in range(max_caption_length):\n",
    "        sequence = tokenizer.texts_to_sequences([caption])[0]\n",
    "        sequence = pad_sequences([sequence], maxlen=max_caption_length)\n",
    "        prediction = model.predict([image_feature, sequence], verbose=0)\n",
    "        predicted_word_index = np.argmax(prediction)\n",
    "        predicted_word = index_to_word[predicted_word_index]\n",
    "        if predicted_word == '<end>':\n",
    "            break\n",
    "        caption.append(predicted_word)\n",
    "    return ' '.join(caption[1:-1])  # Remove <start> and <end> tokens\n",
    "\n",
    "# Example usage\n",
    "image = load_and_preprocess_image('path_to_image.jpg')\n",
    "caption = generate_caption(image)\n",
    "print(\"Generated Caption:\", caption)\n"
   ]
  },
  {
   "cell_type": "code",
   "execution_count": null,
   "id": "37dd0a4d",
   "metadata": {},
   "outputs": [],
   "source": []
  },
  {
   "cell_type": "code",
   "execution_count": null,
   "id": "3db189c1",
   "metadata": {},
   "outputs": [],
   "source": []
  }
 ],
 "metadata": {
  "kernelspec": {
   "display_name": "Python 3 (ipykernel)",
   "language": "python",
   "name": "python3"
  },
  "language_info": {
   "codemirror_mode": {
    "name": "ipython",
    "version": 3
   },
   "file_extension": ".py",
   "mimetype": "text/x-python",
   "name": "python",
   "nbconvert_exporter": "python",
   "pygments_lexer": "ipython3",
   "version": "3.11.5"
  }
 },
 "nbformat": 4,
 "nbformat_minor": 5
}
