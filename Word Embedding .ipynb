{
 "cells": [
  {
   "cell_type": "code",
   "execution_count": 1,
   "id": "e12680e0",
   "metadata": {},
   "outputs": [],
   "source": [
    "import numpy as np\n",
    "from tensorflow.keras.preprocessing.text import one_hot\n",
    "from tensorflow.keras.preprocessing.sequence import pad_sequences\n",
    "from tensorflow.keras.models import Sequential\n",
    "from tensorflow.keras.layers import Dense\n",
    "from tensorflow.keras.layers import Flatten\n",
    "from tensorflow.keras.layers import Embedding"
   ]
  },
  {
   "cell_type": "code",
   "execution_count": 2,
   "id": "053bc10a",
   "metadata": {},
   "outputs": [],
   "source": [
    "\n",
    "reviews = ['nice food',\n",
    "        'amazing restaurant',\n",
    "        'too good',\n",
    "        'just loved it!',\n",
    "        'will go again',\n",
    "        'horrible food',\n",
    "        'never go there',\n",
    "        'poor service',\n",
    "        'poor quality',\n",
    "        'needs improvement']\n",
    "\n",
    "sentiment = np.array([1,1,1,1,1,0,0,0,0,0])\n",
    "\n"
   ]
  },
  {
   "cell_type": "code",
   "execution_count": 3,
   "id": "defe91db",
   "metadata": {},
   "outputs": [],
   "source": [
    "vocab_size = 30\n",
    "hot_encode_vector = [one_hot(review,vocab_size) for review in reviews]"
   ]
  },
  {
   "cell_type": "code",
   "execution_count": 4,
   "id": "9e21ec72",
   "metadata": {},
   "outputs": [
    {
     "data": {
      "text/plain": [
       "[[26, 7],\n",
       " [12, 27],\n",
       " [2, 12],\n",
       " [21, 20, 11],\n",
       " [11, 22, 11],\n",
       " [6, 7],\n",
       " [3, 22, 26],\n",
       " [3, 7],\n",
       " [3, 12],\n",
       " [22, 12]]"
      ]
     },
     "execution_count": 4,
     "metadata": {},
     "output_type": "execute_result"
    }
   ],
   "source": [
    "hot_encode_vector"
   ]
  },
  {
   "cell_type": "code",
   "execution_count": 5,
   "id": "f8736cf0",
   "metadata": {},
   "outputs": [],
   "source": [
    "maxl = 4\n",
    "padded= pad_sequences(hot_encode_vector,maxlen=maxl,padding=\"post\")"
   ]
  },
  {
   "cell_type": "code",
   "execution_count": 6,
   "id": "c72b80ef",
   "metadata": {},
   "outputs": [
    {
     "data": {
      "text/plain": [
       "array([[26,  7,  0,  0],\n",
       "       [12, 27,  0,  0],\n",
       "       [ 2, 12,  0,  0],\n",
       "       [21, 20, 11,  0],\n",
       "       [11, 22, 11,  0],\n",
       "       [ 6,  7,  0,  0],\n",
       "       [ 3, 22, 26,  0],\n",
       "       [ 3,  7,  0,  0],\n",
       "       [ 3, 12,  0,  0],\n",
       "       [22, 12,  0,  0]], dtype=int32)"
      ]
     },
     "execution_count": 6,
     "metadata": {},
     "output_type": "execute_result"
    }
   ],
   "source": [
    "padded"
   ]
  },
  {
   "cell_type": "code",
   "execution_count": 7,
   "id": "acec01a3",
   "metadata": {},
   "outputs": [],
   "source": [
    "embeded_vector_size = 5\n",
    "\n",
    "model = Sequential()\n",
    "model.add(Embedding(vocab_size, embeded_vector_size, input_length=maxl,name=\"embedding\"))\n",
    "model.add(Flatten())\n",
    "model.add(Dense(1, activation='sigmoid'))\n",
    "\n"
   ]
  },
  {
   "cell_type": "code",
   "execution_count": 8,
   "id": "94846a4d",
   "metadata": {},
   "outputs": [],
   "source": [
    "X = padded\n",
    "y = sentiment\n"
   ]
  },
  {
   "cell_type": "code",
   "execution_count": 9,
   "id": "a1865165",
   "metadata": {},
   "outputs": [
    {
     "name": "stdout",
     "output_type": "stream",
     "text": [
      "Model: \"sequential\"\n",
      "_________________________________________________________________\n",
      " Layer (type)                Output Shape              Param #   \n",
      "=================================================================\n",
      " embedding (Embedding)       (None, 4, 5)              150       \n",
      "                                                                 \n",
      " flatten (Flatten)           (None, 20)                0         \n",
      "                                                                 \n",
      " dense (Dense)               (None, 1)                 21        \n",
      "                                                                 \n",
      "=================================================================\n",
      "Total params: 171 (684.00 Byte)\n",
      "Trainable params: 171 (684.00 Byte)\n",
      "Non-trainable params: 0 (0.00 Byte)\n",
      "_________________________________________________________________\n",
      "None\n"
     ]
    }
   ],
   "source": [
    "model.compile(optimizer='adam', loss='binary_crossentropy', metrics=['accuracy'])\n",
    "print(model.summary())"
   ]
  },
  {
   "cell_type": "code",
   "execution_count": 10,
   "id": "c0cdd264",
   "metadata": {},
   "outputs": [
    {
     "data": {
      "text/plain": [
       "<keras.src.callbacks.History at 0x167b1dd50>"
      ]
     },
     "execution_count": 10,
     "metadata": {},
     "output_type": "execute_result"
    }
   ],
   "source": [
    "model.fit(X, y, epochs=50, verbose=0)"
   ]
  },
  {
   "cell_type": "code",
   "execution_count": null,
   "id": "a7b76396",
   "metadata": {},
   "outputs": [],
   "source": []
  }
 ],
 "metadata": {
  "kernelspec": {
   "display_name": "Python 3 (ipykernel)",
   "language": "python",
   "name": "python3"
  },
  "language_info": {
   "codemirror_mode": {
    "name": "ipython",
    "version": 3
   },
   "file_extension": ".py",
   "mimetype": "text/x-python",
   "name": "python",
   "nbconvert_exporter": "python",
   "pygments_lexer": "ipython3",
   "version": "3.11.5"
  }
 },
 "nbformat": 4,
 "nbformat_minor": 5
}
